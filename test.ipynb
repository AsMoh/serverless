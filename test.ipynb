{
 "cells": [
  {
   "cell_type": "code",
   "execution_count": 24,
   "id": "560f7bdc",
   "metadata": {},
   "outputs": [
    {
     "name": "stdout",
     "output_type": "stream",
     "text": [
      " input_index is : 0\n",
      " output_index is : 13\n"
     ]
    }
   ],
   "source": [
    "import tflite_runtime.interpreter as tflite\n",
    "from keras_image_helper import create_preprocessor\n",
    "import numpy as np\n",
    "from io import BytesIO\n",
    "from urllib import request\n",
    "\n",
    "from PIL import Image\n",
    "\n",
    "\n",
    "def download_image(url):\n",
    "    with request.urlopen(url) as resp:\n",
    "        buffer = resp.read()\n",
    "    stream = BytesIO(buffer)\n",
    "    img = Image.open(stream)\n",
    "    return img\n",
    "\n",
    "\n",
    "def prepare_image(img, target_size):\n",
    "    if img.mode != 'RGB':\n",
    "        img = img.convert('RGB')\n",
    "    img = img.resize(target_size, Image.NEAREST)\n",
    "    return img\n",
    "\n",
    "target_size= 150\n",
    "    \n",
    "\n",
    "\n",
    "interpreter = tflite.Interpreter(model_path='dino_dragon-model.tflite')\n",
    "interpreter.allocate_tensors()\n",
    "\n",
    "input_index = interpreter.get_input_details()[0]['index']\n",
    "output_index = interpreter.get_output_details()[0]['index']\n",
    "\n",
    "print(f\" input_index is : {input_index}\")\n",
    "print(f\" output_index is : {output_index}\")\n",
    "\n",
    "\n",
    "data={ 'url': 'https://upload.wikimedia.org/wikipedia/commons/thumb/d/df/Smaug_par_David_Demaret.jpg/1280px-Smaug_par_David_Demaret.jpg'\n",
    "    }\n",
    "\n",
    "\n",
    "target_size= 150\n",
    "\n",
    "classes = [\n",
    "    'dino',\n",
    "    'dragon'\n",
    "]\n",
    "\n",
    "def predict(url):\n",
    "    img=download_image(url)\n",
    "    img=prepare_image(img, (target_size,target_size))\n",
    "    x=np.array(img,dtype='float32')\n",
    "    X=np.array([x])\n",
    "    X=X/255.0\n",
    "    X\n",
    "    \n",
    "    interpreter.set_tensor(input_index, X)\n",
    "    interpreter.invoke()\n",
    "    preds = interpreter.get_tensor(output_index)\n",
    "\n",
    "    float_predictions = preds[0].tolist()\n",
    "\n",
    "    return dict(zip(classes, float_predictions))\n",
    "\n",
    "\n",
    "def lambda_handler(event, context):\n",
    "    url = event['url']\n",
    "    result = predict(url)\n",
    "    return result\n",
    "\n",
    "\n"
   ]
  },
  {
   "cell_type": "code",
   "execution_count": 25,
   "id": "31e08a8d",
   "metadata": {},
   "outputs": [],
   "source": [
    "data={ 'url': 'https://upload.wikimedia.org/wikipedia/commons/thumb/d/df/Smaug_par_David_Demaret.jpg/1280px-Smaug_par_David_Demaret.jpg'\n",
    "    }"
   ]
  },
  {
   "cell_type": "markdown",
   "id": "208d1c32",
   "metadata": {},
   "source": [
    "### Testing lambda_handler function"
   ]
  },
  {
   "cell_type": "code",
   "execution_count": 26,
   "id": "9f88cc6e",
   "metadata": {},
   "outputs": [
    {
     "name": "stderr",
     "output_type": "stream",
     "text": [
      "C:\\Users\\Asia\\AppData\\Local\\Temp\\ipykernel_12488\\3173733038.py:21: DeprecationWarning: NEAREST is deprecated and will be removed in Pillow 10 (2023-07-01). Use Resampling.NEAREST or Dither.NONE instead.\n",
      "  img = img.resize(target_size, Image.NEAREST)\n"
     ]
    },
    {
     "data": {
      "text/plain": [
       "{'dino': 0.824486494064331}"
      ]
     },
     "execution_count": 26,
     "metadata": {},
     "output_type": "execute_result"
    }
   ],
   "source": [
    "lambda_handler(data, None)"
   ]
  },
  {
   "cell_type": "markdown",
   "id": "cbd34298",
   "metadata": {},
   "source": [
    "### Output of the model dino-vs-dragon-v2.tflite after creating docker image ( Q6)"
   ]
  },
  {
   "cell_type": "code",
   "execution_count": 1,
   "id": "29c0c24b",
   "metadata": {},
   "outputs": [
    {
     "name": "stdout",
     "output_type": "stream",
     "text": [
      "{'dino': 0.31950676441192627}\n"
     ]
    }
   ],
   "source": [
    "import requests\n",
    "\n",
    "url = 'http://localhost:8080/2015-03-31/functions/function/invocations'\n",
    "\n",
    "data={ 'url': 'https://upload.wikimedia.org/wikipedia/en/e/e9/GodzillaEncounterModel.jpg'\n",
    "    }\n",
    "result = requests.post(url, json=data).json()\n",
    "print(result)"
   ]
  },
  {
   "cell_type": "code",
   "execution_count": null,
   "id": "d2b19e3a",
   "metadata": {},
   "outputs": [],
   "source": []
  }
 ],
 "metadata": {
  "kernelspec": {
   "display_name": "Python 3 (ipykernel)",
   "language": "python",
   "name": "python3"
  },
  "language_info": {
   "codemirror_mode": {
    "name": "ipython",
    "version": 3
   },
   "file_extension": ".py",
   "mimetype": "text/x-python",
   "name": "python",
   "nbconvert_exporter": "python",
   "pygments_lexer": "ipython3",
   "version": "3.9.12"
  }
 },
 "nbformat": 4,
 "nbformat_minor": 5
}
